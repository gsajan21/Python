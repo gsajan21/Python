{
 "cells": [
  {
   "cell_type": "code",
   "execution_count": 4,
   "id": "9277a9f0",
   "metadata": {},
   "outputs": [
    {
     "data": {
      "text/plain": [
       "30"
      ]
     },
     "execution_count": 4,
     "metadata": {},
     "output_type": "execute_result"
    }
   ],
   "source": [
    "# question 1\n",
    "def sum(a, b):\n",
    "    return int(a)+int(b)\n",
    "\n",
    "sum(\"10\", 20)\n",
    "    "
   ]
  },
  {
   "cell_type": "code",
   "execution_count": 1,
   "id": "f258fca5",
   "metadata": {},
   "outputs": [
    {
     "name": "stdout",
     "output_type": "stream",
     "text": [
      "{'type': 'Car', 'brand': 'Renault'}\n"
     ]
    }
   ],
   "source": [
    "# 4. function to accept dictionary as below as parameter and display the values.\n",
    "# {\"type\":\"car\",\"brand\":\"Renault\"}\n",
    "\n",
    "dictionary = {\n",
    "    \"type\": \"Car\",\n",
    "    \"brand\" : \"Renault\"\n",
    "}\n",
    "\n",
    "def dict(dictionary):\n",
    "    print(dictionary)\n",
    "\n",
    "dict(dictionary)\n",
    "    "
   ]
  },
  {
   "cell_type": "code",
   "execution_count": 5,
   "id": "3175473d",
   "metadata": {},
   "outputs": [
    {
     "name": "stdout",
     "output_type": "stream",
     "text": [
      "Enter a number from 0 to 6: 0\n",
      "Sunday\n"
     ]
    }
   ],
   "source": [
    "# 5. Write a function to accept only 0 to 6 numbers as argument and \n",
    "# return 0 = Sunday to 6 = Saturday if other than 0 to 6 return invalid.\n",
    "\n",
    "def days():\n",
    "    days=[\"Sunday\", \"Monday\", \"Tuesday\", \"Wednesday\", \"Thursday\", \"Friday\", \"Saturday\"]\n",
    "    a = int(input(\"Enter a number from 0 to 6: \"))\n",
    "    if(a >=0 and a <=6):\n",
    "        print(days[a])\n",
    "    else:\n",
    "        print(\"invalid!\")\n",
    "\n",
    "days()\n",
    "    "
   ]
  },
  {
   "cell_type": "markdown",
   "id": "540e8314",
   "metadata": {},
   "source": [
    "## 6. Diffentiate between while and for loop.\n",
    "\n",
    "### While Loop\n",
    "    While loop runs until a given statement is true. This loop is representd by the keyword \"while\". While loop is used when the number of iterations is unknownn. Because the condition is tested at the beginning of a while loop, it is also known as the pre-test loop.\n",
    "\n",
    "### For Loop\n",
    "    The For loop is a control flow statement that executes code for a predefined number of iterations. The keyword used in this control flow statement is \"for\".This loop is used when the number of iteration is already known."
   ]
  },
  {
   "cell_type": "code",
   "execution_count": 21,
   "id": "d58e3273",
   "metadata": {},
   "outputs": [
    {
     "name": "stdout",
     "output_type": "stream",
     "text": [
      "100\n",
      "102\n",
      "104\n",
      "106\n",
      "108\n",
      "110\n",
      "112\n",
      "114\n",
      "116\n",
      "118\n",
      "120\n",
      "122\n",
      "124\n",
      "126\n",
      "128\n",
      "130\n",
      "132\n",
      "134\n",
      "136\n",
      "138\n",
      "140\n",
      "142\n",
      "144\n",
      "146\n",
      "148\n",
      "150\n",
      "152\n",
      "154\n",
      "156\n",
      "158\n",
      "160\n",
      "162\n",
      "164\n",
      "166\n",
      "168\n",
      "170\n",
      "172\n",
      "174\n",
      "176\n",
      "178\n",
      "180\n",
      "182\n",
      "184\n",
      "186\n",
      "188\n",
      "190\n",
      "192\n",
      "194\n",
      "196\n",
      "198\n"
     ]
    }
   ],
   "source": [
    "# 7. Write a for loop with range to print even numbers between 100 and 200.\n",
    "\n",
    "for r in range(100, 200):\n",
    "    if(r%2 == 0):\n",
    "        print(r)"
   ]
  },
  {
   "cell_type": "code",
   "execution_count": 10,
   "id": "4581844a",
   "metadata": {},
   "outputs": [
    {
     "name": "stdout",
     "output_type": "stream",
     "text": [
      "Sajan Gurung\n",
      "Desctructor is called.\n"
     ]
    }
   ],
   "source": [
    "# 8. Write a class with constructor (should take 2 arguments), \n",
    "# destructor and instance method to display the 2 arguments.\n",
    "\n",
    "class TestQ8:\n",
    "    def __init__(self):\n",
    "        print(\"Constructor\")\n",
    "        \n",
    "    def __init__(self, firstName, lastName):\n",
    "        self.firstName = firstName\n",
    "        self.lastName = lastName\n",
    "        \n",
    "    def display(self):\n",
    "        print(self.firstName + \" \"+ self.lastName)\n",
    "        \n",
    "    def __del__(self):\n",
    "        print(\"Desctructor is called.\")\n",
    "        \n",
    "obj = TestQ8\n",
    "obj1 = TestQ8(\"Sajan\", \"Gurung\")\n",
    "obj1.display()\n",
    "\n",
    "del obj1\n"
   ]
  },
  {
   "cell_type": "code",
   "execution_count": 19,
   "id": "33ea7b49",
   "metadata": {},
   "outputs": [
    {
     "name": "stdout",
     "output_type": "stream",
     "text": [
      "Cat\n",
      "meow!!\n",
      "Object Deleted!!!\n"
     ]
    }
   ],
   "source": [
    "# 9. What is inheritance? Demonstrate with example.\n",
    "\n",
    "class Animal:\n",
    "    def __init__(self, name):\n",
    "        self.name = name\n",
    "        \n",
    "    def getName(self):\n",
    "        print(self.name)\n",
    "        \n",
    "\n",
    "class Cat(Animal):\n",
    "#     def __init__(self, name):\n",
    "#         self.name = name\n",
    "#         super().__init__(self, name)\n",
    "    \n",
    "    def saySomething(self):\n",
    "        print(\"meow!!\")\n",
    "    \n",
    "    def __del__(self):\n",
    "        print(\"Object Deleted!!!\")\n",
    "\n",
    "\n",
    "obj1 = Cat(\"Cat\")    \n",
    "obj1.getName()\n",
    "obj1.saySomething()\n",
    "del obj1\n"
   ]
  },
  {
   "cell_type": "code",
   "execution_count": 24,
   "id": "786ce1c9",
   "metadata": {},
   "outputs": [
    {
     "name": "stdout",
     "output_type": "stream",
     "text": [
      "Sajan Gurung\n",
      "Desctructor is called.\n",
      "This is the class method to test\n"
     ]
    }
   ],
   "source": [
    "# 10. Add class method in the class created in Q 8?\n",
    "\n",
    "class TestQ8:\n",
    "    def __init__(self):\n",
    "        print(\"Constructor\")\n",
    "        \n",
    "    def __init__(self, firstName, lastName):\n",
    "        self.firstName = firstName\n",
    "        self.lastName = lastName\n",
    "        \n",
    "    def display(self):\n",
    "        print(self.firstName + \" \"+ self.lastName)\n",
    "        \n",
    "    @classmethod\n",
    "    def test(cls):\n",
    "        print(\"This is the class method to test\")\n",
    "        \n",
    "    def __del__(self):\n",
    "        print(\"Desctructor is called.\")\n",
    "\n",
    "# creating object of TestQ8\n",
    "obj = TestQ8\n",
    "obj1 = TestQ8(\"Sajan\", \"Gurung\")\n",
    "obj1.display()\n",
    "del obj1\n",
    "\n",
    "# accessing class method without creating object\n",
    "TestQ8.test()"
   ]
  },
  {
   "cell_type": "markdown",
   "id": "158bd418",
   "metadata": {},
   "source": [
    "## 11. Differentiate between class method and instance method.\n",
    "\n",
    "### Class method\n",
    "    * When creating an instance method, the first parameter is always self. You can name it anything you want, but the meaning will always be the same, and you should use self since it's the naming convention. self is (usually) passed hiddenly when calling an instance method; it represents the instance calling the method.\n",
    "    * a class method can be accessed using classname \n",
    "    * you do not need to create an object to access it\n",
    "    \n",
    "### Intance method\n",
    "    * The idea of a class method is very similar to an instance method, only difference being that instead of passing the instance hiddenly as a first parameter, we're now passing the class itself as a first parameter.\n",
    "    * an instance method can only be accessed through object creation"
   ]
  },
  {
   "cell_type": "code",
   "execution_count": null,
   "id": "10befafa",
   "metadata": {},
   "outputs": [],
   "source": []
  }
 ],
 "metadata": {
  "kernelspec": {
   "display_name": "Python 3",
   "language": "python",
   "name": "python3"
  },
  "language_info": {
   "codemirror_mode": {
    "name": "ipython",
    "version": 3
   },
   "file_extension": ".py",
   "mimetype": "text/x-python",
   "name": "python",
   "nbconvert_exporter": "python",
   "pygments_lexer": "ipython3",
   "version": "3.10.8 (main, Oct 13 2022, 10:17:43) [Clang 14.0.0 (clang-1400.0.29.102)]"
  },
  "vscode": {
   "interpreter": {
    "hash": "aee8b7b246df8f9039afb4144a1f6fd8d2ca17a180786b69acc140d282b71a49"
   }
  }
 },
 "nbformat": 4,
 "nbformat_minor": 5
}
