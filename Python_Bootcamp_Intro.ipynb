{
 "cells": [
  {
   "cell_type": "markdown",
   "id": "9c9deb70",
   "metadata": {},
   "source": [
    "### Variables"
   ]
  },
  {
   "cell_type": "code",
   "execution_count": 1,
   "id": "33094fe9",
   "metadata": {},
   "outputs": [
    {
     "name": "stdout",
     "output_type": "stream",
     "text": [
      "Sunday\n",
      "Monday\n"
     ]
    }
   ],
   "source": [
    "# variable names can be written in \n",
    "# camelCase and snake_case, \n",
    "# classes can be written using PascalCase\n",
    "\n",
    "_day1=\"Sunday\"\n",
    "day2=\"Monday\"\n",
    "print(_day1)\n",
    "print(day2)"
   ]
  },
  {
   "cell_type": "code",
   "execution_count": 5,
   "id": "fdd40f26",
   "metadata": {},
   "outputs": [
    {
     "name": "stdout",
     "output_type": "stream",
     "text": [
      "Enter you first number: 123\n",
      "Enter your second number: 123\n",
      "246\n"
     ]
    }
   ],
   "source": [
    "# The in-built function input return strings so you need to cast it to int if you're getting integers\n",
    "x = int(input(\"Enter you first number: \")) \n",
    "y = int(input(\"Enter your second number: \"))\n",
    "\n",
    "z = x+y\n",
    "print(z)"
   ]
  },
  {
   "cell_type": "markdown",
   "id": "d88299a6",
   "metadata": {},
   "source": [
    "### Built-in Data Types\n",
    "\n",
    "In programming, data type is an important concept.\n",
    "\n",
    "Variables can store data of different types, and different types can do different things.\n",
    "\n",
    "Python has the following data types built-in by default, in these categories:\n",
    "\n",
    "    Text Type: \tstr\n",
    "    Numeric Types: \tint, float, complex\n",
    "    Sequence Types: list, tuple, range\n",
    "    Mapping Type: \tdict\n",
    "    Set Types: \tset, frozenset\n",
    "    Boolean Type: \tbool\n",
    "    Binary Types: \tbytes, bytearray, memoryview\n",
    "    None Type: \tNoneType"
   ]
  },
  {
   "cell_type": "markdown",
   "id": "8c613f40",
   "metadata": {},
   "source": [
    "### Numbers in Python\n",
    "\n",
    "    Integer  x = 20\n",
    "    Float    x = 20.9\n",
    "    Complex  x = 10+2j"
   ]
  },
  {
   "cell_type": "code",
   "execution_count": 4,
   "id": "0ee3df2a",
   "metadata": {},
   "outputs": [
    {
     "data": {
      "text/plain": [
       "NoneType"
      ]
     },
     "execution_count": 4,
     "metadata": {},
     "output_type": "execute_result"
    }
   ],
   "source": [
    "x = \"Hello World\"\n",
    "type(x)\n",
    "x = 20\n",
    "type(x)\n",
    "x = 20.5\n",
    "type(x)\n",
    "x = 1j\n",
    "type(x)\n",
    "x = [\"apple\", \"banana\", \"cherry\"]\n",
    "type(x)\n",
    "x = (\"apple\", \"banana\", \"cherry\")\n",
    "type(x)\n",
    "x = range(6)\n",
    "type(x)\n",
    "x = {\"name\" : \"John\", \"age\" : 36}\n",
    "type(x)\n",
    "x = {\"apple\", \"banana\", \"cherry\"}\n",
    "type(x)\n",
    "x = frozenset({\"apple\", \"banana\", \"cherry\"})\n",
    "type(x)\n",
    "x = True\n",
    "type(x)\n",
    "x = b\"Hello\"\n",
    "type(x)\n",
    "x = bytearray(5)\n",
    "type(x)\n",
    "x = memoryview(bytes(5))\n",
    "type(x)\n",
    "x = None\n",
    "type(x)"
   ]
  },
  {
   "cell_type": "code",
   "execution_count": 2,
   "id": "31c9c684",
   "metadata": {},
   "outputs": [
    {
     "name": "stdout",
     "output_type": "stream",
     "text": [
      "C:\\some\n",
      "ame\n"
     ]
    }
   ],
   "source": [
    "print(\"C:\\some\\name\")"
   ]
  },
  {
   "cell_type": "code",
   "execution_count": 3,
   "id": "4459a409",
   "metadata": {},
   "outputs": [
    {
     "data": {
      "text/plain": [
       "'Hello\\nMy name is Sajan'"
      ]
     },
     "execution_count": 3,
     "metadata": {},
     "output_type": "execute_result"
    }
   ],
   "source": [
    "\"Hello\\nMy name is Sajan\""
   ]
  },
  {
   "cell_type": "code",
   "execution_count": 6,
   "id": "d552992d",
   "metadata": {},
   "outputs": [
    {
     "name": "stdout",
     "output_type": "stream",
     "text": [
      "\tHello\n",
      "My name is Sajan Gurung\n"
     ]
    }
   ],
   "source": [
    "print(\"\\tHello\\nMy name is Sajan Gurung\")"
   ]
  },
  {
   "cell_type": "code",
   "execution_count": 7,
   "id": "d5398060",
   "metadata": {},
   "outputs": [],
   "source": [
    "word = \"Python\""
   ]
  },
  {
   "cell_type": "code",
   "execution_count": 9,
   "id": "478ba809",
   "metadata": {},
   "outputs": [
    {
     "data": {
      "text/plain": [
       "'Pytho'"
      ]
     },
     "execution_count": 9,
     "metadata": {},
     "output_type": "execute_result"
    }
   ],
   "source": [
    "word[0:5]\n"
   ]
  },
  {
   "cell_type": "code",
   "execution_count": 10,
   "id": "cb6e3594",
   "metadata": {},
   "outputs": [
    {
     "data": {
      "text/plain": [
       "6"
      ]
     },
     "execution_count": 10,
     "metadata": {},
     "output_type": "execute_result"
    }
   ],
   "source": [
    "len(word)"
   ]
  },
  {
   "cell_type": "code",
   "execution_count": 11,
   "id": "bd56a00e",
   "metadata": {},
   "outputs": [],
   "source": [
    "new_word=\"\"\"\n",
    "Hello,\n",
    "My name is Sajan Gurung.\"\"\""
   ]
  },
  {
   "cell_type": "code",
   "execution_count": 12,
   "id": "4c8e6f0a",
   "metadata": {},
   "outputs": [
    {
     "name": "stdout",
     "output_type": "stream",
     "text": [
      "\n",
      "Hello,\n",
      "My name is Sajan Gurung.\n"
     ]
    }
   ],
   "source": [
    "print(new_word)"
   ]
  },
  {
   "cell_type": "code",
   "execution_count": 13,
   "id": "e93de428",
   "metadata": {
    "scrolled": true
   },
   "outputs": [
    {
     "name": "stdout",
     "output_type": "stream",
     "text": [
      "\n",
      "\n",
      "H\n",
      "e\n",
      "l\n",
      "l\n",
      "o\n",
      ",\n",
      "\n",
      "\n",
      "M\n",
      "y\n",
      " \n",
      "n\n",
      "a\n",
      "m\n",
      "e\n",
      " \n",
      "i\n",
      "s\n",
      " \n",
      "S\n",
      "a\n",
      "j\n",
      "a\n",
      "n\n",
      " \n",
      "G\n",
      "u\n",
      "r\n",
      "u\n",
      "n\n",
      "g\n",
      ".\n"
     ]
    }
   ],
   "source": [
    "for w in new_word:\n",
    "    print(w);"
   ]
  },
  {
   "cell_type": "code",
   "execution_count": 16,
   "id": "08f5d35c",
   "metadata": {},
   "outputs": [
    {
     "data": {
      "text/plain": [
       "'\\nhello,\\nmy name is sajan gurung.'"
      ]
     },
     "execution_count": 16,
     "metadata": {},
     "output_type": "execute_result"
    }
   ],
   "source": [
    "new_word.capitalize()"
   ]
  },
  {
   "cell_type": "code",
   "execution_count": 17,
   "id": "174b8b51",
   "metadata": {},
   "outputs": [
    {
     "data": {
      "text/plain": [
       "'\\nHello,\\nMy name is Sajan Gurung.'"
      ]
     },
     "execution_count": 17,
     "metadata": {},
     "output_type": "execute_result"
    }
   ],
   "source": [
    "new_word.format()"
   ]
  },
  {
   "cell_type": "code",
   "execution_count": 19,
   "id": "e9c72d7b",
   "metadata": {},
   "outputs": [
    {
     "data": {
      "text/plain": [
       "False"
      ]
     },
     "execution_count": 19,
     "metadata": {},
     "output_type": "execute_result"
    }
   ],
   "source": [
    "new_word.startswith('a')"
   ]
  },
  {
   "cell_type": "code",
   "execution_count": 20,
   "id": "4efa1dd5",
   "metadata": {},
   "outputs": [
    {
     "data": {
      "text/plain": [
       "'\\nHELLO,\\nMY NAME IS SAJAN GURUNG.'"
      ]
     },
     "execution_count": 20,
     "metadata": {},
     "output_type": "execute_result"
    }
   ],
   "source": [
    "new_word.upper()"
   ]
  },
  {
   "cell_type": "code",
   "execution_count": 21,
   "id": "667634cc",
   "metadata": {},
   "outputs": [
    {
     "data": {
      "text/plain": [
       "'\\nHello,\\nMy Name Is Sajan Gurung.'"
      ]
     },
     "execution_count": 21,
     "metadata": {},
     "output_type": "execute_result"
    }
   ],
   "source": [
    "new_word.title()"
   ]
  },
  {
   "cell_type": "code",
   "execution_count": 22,
   "id": "a90526cc",
   "metadata": {},
   "outputs": [
    {
     "data": {
      "text/plain": [
       "'\\nBonjore!,\\nMy name is Sajan Gurung.'"
      ]
     },
     "execution_count": 22,
     "metadata": {},
     "output_type": "execute_result"
    }
   ],
   "source": [
    "new_word.replace(\"Hello\", \"Bonjore!\")"
   ]
  },
  {
   "cell_type": "code",
   "execution_count": 23,
   "id": "7b9664f6",
   "metadata": {},
   "outputs": [
    {
     "data": {
      "text/plain": [
       "'\\nHello,\\nMy name is Sajan Gurung.'"
      ]
     },
     "execution_count": 23,
     "metadata": {},
     "output_type": "execute_result"
    }
   ],
   "source": [
    "new_word"
   ]
  },
  {
   "cell_type": "markdown",
   "id": "958d810d",
   "metadata": {},
   "source": [
    "### List"
   ]
  },
  {
   "cell_type": "code",
   "execution_count": 21,
   "id": "04ead7cd",
   "metadata": {},
   "outputs": [
    {
     "name": "stdout",
     "output_type": "stream",
     "text": [
      "Messi 3\n",
      "Ronaldo 5\n",
      "Kaka 7\n"
     ]
    }
   ],
   "source": [
    "players =[\"Messi\", \"Ronaldo\", \"Kaka\"]\n",
    "players_goals=[3,5,7]\n",
    "\n",
    "# print(players)\n",
    "# print(players_goals)\n",
    "\n",
    "for x in range(len(players)):\n",
    "    print(players[x], players_goals[x])"
   ]
  },
  {
   "cell_type": "code",
   "execution_count": 22,
   "id": "9d16a8e3",
   "metadata": {},
   "outputs": [
    {
     "name": "stdout",
     "output_type": "stream",
     "text": [
      "Messi\n",
      "Ronaldo\n",
      "Kaka\n"
     ]
    }
   ],
   "source": [
    "for p in players:\n",
    "    print(p)"
   ]
  },
  {
   "cell_type": "code",
   "execution_count": 7,
   "id": "3e2cb4b8",
   "metadata": {},
   "outputs": [
    {
     "data": {
      "text/plain": [
       "'Messi'"
      ]
     },
     "execution_count": 7,
     "metadata": {},
     "output_type": "execute_result"
    }
   ],
   "source": [
    "players[0]"
   ]
  },
  {
   "cell_type": "code",
   "execution_count": 9,
   "id": "4dbdf038",
   "metadata": {},
   "outputs": [
    {
     "data": {
      "text/plain": [
       "['Messi', 'Ronaldo', 'Kaka']"
      ]
     },
     "execution_count": 9,
     "metadata": {},
     "output_type": "execute_result"
    }
   ],
   "source": [
    "players[0:3]"
   ]
  },
  {
   "cell_type": "code",
   "execution_count": 14,
   "id": "b25b4d15",
   "metadata": {},
   "outputs": [
    {
     "name": "stdout",
     "output_type": "stream",
     "text": [
      "['Messi', 'Mbape', 'Giround', 'Tessy', 'Dessy', 'Dessy']\n",
      "['Messi', 'Mbape', 'Giround', 'Tessy']\n"
     ]
    }
   ],
   "source": [
    "# Deep copy and shallow copy\n",
    "gboot = [\"Messi\", \"Mbape\", \"Giround\"]\n",
    "sgboot = gboot # Shallow copy // stores the reference of gboot only\n",
    "dgboot = gboot.copy() # Deep copy // copies the the object itself\n",
    "\n",
    "gboot.append(\"Tessy\")\n",
    "cgboot.append(\"Dessy\")\n",
    "\n",
    "print(cgboot)\n",
    "print(gboot)"
   ]
  },
  {
   "cell_type": "code",
   "execution_count": 3,
   "id": "d786404f",
   "metadata": {},
   "outputs": [
    {
     "name": "stdout",
     "output_type": "stream",
     "text": [
      "1\n",
      "A\n"
     ]
    }
   ],
   "source": [
    "# min and max in list\n",
    "\n",
    "list01 = [2,1,7,8,9,6]\n",
    "print(min(list01))\n",
    "\n",
    "list03 = ['A', 'a']\n",
    "print(min(list03))"
   ]
  },
  {
   "cell_type": "code",
   "execution_count": 8,
   "id": "3ff87a14",
   "metadata": {},
   "outputs": [
    {
     "name": "stdout",
     "output_type": "stream",
     "text": [
      "('Messi', 'MBampe')\n",
      "Messi\n",
      "2\n"
     ]
    }
   ],
   "source": [
    "# tuple\n",
    "# used for multiple values which can't be changed after you define it\n",
    "_tup01 = (\"Messi\", \"MBampe\")\n",
    "print(_tup01)\n",
    "print(_tup01[0])\n",
    "\n",
    "print(len(_tup01))"
   ]
  },
  {
   "cell_type": "code",
   "execution_count": 12,
   "id": "c8a94908",
   "metadata": {},
   "outputs": [
    {
     "name": "stdout",
     "output_type": "stream",
     "text": [
      "{'name': 'Sajan', 'age': 26, 'email': 'gsajan21@gmail.com'}\n",
      "gsajan21@gmail.com\n",
      "None\n"
     ]
    }
   ],
   "source": [
    "# Dictionaries -> Stores multiples valued in key and value pair format. key: pair\n",
    "emp ={\n",
    "    \"name\":\"Sajan\",\n",
    "    \"age\": 26,\n",
    "    \"email\": \"gsajan21@gmail.com\"\n",
    "}\n",
    "print(emp)\n",
    "print(emp[\"email\"])\n",
    "print(emp.get(\"Sajan\"))"
   ]
  },
  {
   "cell_type": "code",
   "execution_count": 20,
   "id": "7d95e6d7",
   "metadata": {},
   "outputs": [
    {
     "name": "stdout",
     "output_type": "stream",
     "text": [
      "{'Mbampe', 4, 'Rajan'}\n"
     ]
    }
   ],
   "source": [
    "# Set -> unordered and unchangeable\n",
    "_set01 = {\"Sajan\", 4, \"Mbampe\"}\n",
    "# _set01.remove(\"Sajan\")\n",
    "_set01.discard(\"Sajan\")\n",
    "_set01.add(\"Rajan\")\n",
    "print(_set01)"
   ]
  },
  {
   "cell_type": "code",
   "execution_count": 21,
   "id": "f01b8780",
   "metadata": {},
   "outputs": [
    {
     "name": "stdout",
     "output_type": "stream",
     "text": [
      "False\n"
     ]
    }
   ],
   "source": [
    "# Boolean\n",
    "x = 10\n",
    "y = 20\n",
    "z = True\n",
    "print(x > y)"
   ]
  },
  {
   "cell_type": "code",
   "execution_count": 22,
   "id": "78bf3aa4",
   "metadata": {},
   "outputs": [
    {
     "name": "stdout",
     "output_type": "stream",
     "text": [
      "False\n"
     ]
    }
   ],
   "source": [
    "# Comparison Operators -> >, <, >=, <=< !=, ==\n",
    "n1 = 10\n",
    "n2 = 20\n",
    "print(n1 == n2)"
   ]
  },
  {
   "cell_type": "code",
   "execution_count": 24,
   "id": "82a2989f",
   "metadata": {},
   "outputs": [
    {
     "name": "stdout",
     "output_type": "stream",
     "text": [
      "40\n",
      "0\n",
      "400\n",
      "1.0\n",
      "1\n"
     ]
    }
   ],
   "source": [
    "# Arithmetic Operators -> +, -, *, /, //\n",
    "n1 = 20\n",
    "n2 = 20\n",
    "print(n1+n2)\n",
    "print(n1-n2)\n",
    "print(n1*n2)\n",
    "print(n1/n2)\n",
    "print(n1//n2)"
   ]
  },
  {
   "cell_type": "code",
   "execution_count": 26,
   "id": "282a2e98",
   "metadata": {},
   "outputs": [
    {
     "name": "stdout",
     "output_type": "stream",
     "text": [
      "True\n",
      "False\n"
     ]
    }
   ],
   "source": [
    "# Logical Operators or, and\n",
    "a = 10\n",
    "b = 20\n",
    "print(a > 5 or a > 20)\n",
    "print(a > 5 and a > 20)"
   ]
  },
  {
   "cell_type": "code",
   "execution_count": 27,
   "id": "dcc35046",
   "metadata": {},
   "outputs": [
    {
     "name": "stdout",
     "output_type": "stream",
     "text": [
      "True\n"
     ]
    }
   ],
   "source": [
    "# Membership Operators in/not \n",
    "a = \"abcdef\"\n",
    "print(\"z\" not in a)"
   ]
  },
  {
   "cell_type": "code",
   "execution_count": 28,
   "id": "827b21f8",
   "metadata": {},
   "outputs": [
    {
     "name": "stdout",
     "output_type": "stream",
     "text": [
      "True\n"
     ]
    }
   ],
   "source": [
    "# Identity Operators\n",
    "a =['a', 'b', 'c']\n",
    "b = a\n",
    "a.append('c')\n",
    "print(a == b)"
   ]
  },
  {
   "cell_type": "markdown",
   "id": "742ca027",
   "metadata": {},
   "source": [
    "### Python Control Structures and Functions\n",
    "#### Control Structures - Decision Making in Python\n",
    "    * if else\n",
    "    * if elif\n",
    "    * for loop\n",
    "    * while loop\n",
    "    * break/continue/pass\n",
    "    \n",
    "### Function in Python\n",
    "    * Function Structure\n",
    "    * Simple function"
   ]
  },
  {
   "cell_type": "code",
   "execution_count": 1,
   "id": "d79c8188",
   "metadata": {},
   "outputs": [
    {
     "name": "stdout",
     "output_type": "stream",
     "text": [
      "Your Order has been placed,\n",
      "Please wait for 30 minutes\n"
     ]
    }
   ],
   "source": [
    "# Multiline string\n",
    "x = \"\"\"Your Order has been placed,\n",
    "Please wait for 30 minutes\"\"\"\n",
    "print(x)"
   ]
  },
  {
   "cell_type": "code",
   "execution_count": 7,
   "id": "39ea542d",
   "metadata": {},
   "outputs": [
    {
     "name": "stdout",
     "output_type": "stream",
     "text": [
      "Enter a number: 4\n",
      "<class 'int'>\n",
      "It is other days.\n"
     ]
    }
   ],
   "source": [
    "# if/else/elif\n",
    "# if<condition>\n",
    "#    statements\n",
    "\n",
    "x = int(input(\"Enter a number: \"))\n",
    "print(type(x))\n",
    "if x == 1:\n",
    "    print(\"It is Sunday.\")\n",
    "elif x == 2:\n",
    "    print(\"It is Monday.\")\n",
    "else:\n",
    "    print(\"It is other days.\")\n",
    "    "
   ]
  },
  {
   "cell_type": "code",
   "execution_count": 1,
   "id": "c26e58c5",
   "metadata": {},
   "outputs": [],
   "source": [
    "# while loop\n"
   ]
  },
  {
   "cell_type": "markdown",
   "id": "448512e9",
   "metadata": {},
   "source": [
    "## Day - 4\n",
    "## Module\n",
    "\n",
    "    * create .py file\n",
    "    * import your code\n",
    "    * use it in the coding\n",
    "## Class\n",
    "    * State, Behavior\n",
    "    * __init()__\n",
    "    * __str()__\n",
    "    * access variables of class\n",
    "    * write a class to accept employ and display it."
   ]
  },
  {
   "cell_type": "code",
   "execution_count": 3,
   "id": "010d3283",
   "metadata": {},
   "outputs": [
    {
     "name": "stdout",
     "output_type": "stream",
     "text": [
      "9\n"
     ]
    }
   ],
   "source": [
    "def sum(n1, n2):\n",
    "    return n1+n2\n",
    "\n",
    "print(sum(3,6))"
   ]
  },
  {
   "cell_type": "code",
   "execution_count": 18,
   "id": "390bac0d",
   "metadata": {},
   "outputs": [
    {
     "name": "stdout",
     "output_type": "stream",
     "text": [
      "Sajan\n"
     ]
    }
   ],
   "source": [
    "# Class\n",
    "class Emp():\n",
    "    '''This is my first class''' # Docstring\n",
    "    v1 = 10\n",
    "    def __init__(self): # default constructor\n",
    "        print(\"Object Created!!!\")\n",
    "        \n",
    "    def __init__(self, emp_name): # parameterized constructor\n",
    "        self.ename = emp_name\n",
    "        \n",
    "    def display(self):\n",
    "        print(self.ename)\n",
    "    \n",
    "obj1 = Emp(\"Sajan\") # obj1 is object or instance of Emp class\n",
    "\n",
    "obj1.display()\n"
   ]
  },
  {
   "cell_type": "code",
   "execution_count": 31,
   "id": "101e00a2",
   "metadata": {},
   "outputs": [
    {
     "name": "stdout",
     "output_type": "stream",
     "text": [
      "Employee:  Sajan IT 2345 My Company\n"
     ]
    }
   ],
   "source": [
    "class Employee:\n",
    "    # class variable\n",
    "    company = \"My Company\"\n",
    "    \n",
    "    def __inti__(self):\n",
    "        print(\"\")\n",
    "    \n",
    "    def __init__(self, name, dept, salary):\n",
    "        # instance variable\n",
    "        self.name = name\n",
    "        self.dept = dept\n",
    "        self.salary = salary\n",
    "        \n",
    "    # instance method\n",
    "    def show(self):\n",
    "        print(\"Employee: \", self.name, self.dept, self.salary, Employee.company)\n",
    "      \n",
    "    # instance method\n",
    "    def change_salary(self, new_salary):\n",
    "        # modify salary or single instance variable\n",
    "        self.salary = new_salary\n",
    "    \n",
    "    # class method\n",
    "    @classmethod\n",
    "    def change_name(cls, new_company):\n",
    "        # modify class variable\n",
    "        cls.company = new_company\n",
    "    \n",
    "\n",
    "emp1 = Employee(\"Sajan\", \"IT\", 2345)\n",
    "    \n",
    "emp1.show()"
   ]
  },
  {
   "cell_type": "markdown",
   "id": "0148acdd",
   "metadata": {},
   "source": [
    "## Range\n",
    "    * range(start, stop, increment)\n",
    "   \n",
    "## Class Inheritance\n",
    "\n",
    "    * Destructors\n",
    "    * Static methods\n",
    "    * What is class inheritance\n",
    "    * Perform class inheritance\n",
    "    \n",
    "## File Handling\n",
    "    * open file -> open(\"filename\", \"access\")\n",
    "    * write()\n",
    "    * close()\n",
    "    * r, w, a, x, t, b (Default is r and t)\n",
    "    * Delete file (Need to import os)\n"
   ]
  },
  {
   "cell_type": "code",
   "execution_count": 2,
   "id": "c1b7fb2e",
   "metadata": {},
   "outputs": [
    {
     "name": "stdout",
     "output_type": "stream",
     "text": [
      "0\n",
      "2\n",
      "4\n",
      "6\n",
      "8\n"
     ]
    }
   ],
   "source": [
    "# range\n",
    "for x in range(0, 10, 2): # here 8 is not included\n",
    "    print(x)"
   ]
  },
  {
   "cell_type": "code",
   "execution_count": 7,
   "id": "6025ab8d",
   "metadata": {},
   "outputs": [
    {
     "name": "stdout",
     "output_type": "stream",
     "text": [
      "Constructor\n",
      "Destructor\n"
     ]
    }
   ],
   "source": [
    "# Destructor\n",
    "class Dest():\n",
    "    def __init__(self):\n",
    "        print(\"Constructor\")\n",
    "    def __del__(self):\n",
    "        print(\"Destructor\")\n",
    "\n",
    "dest01 = dest()\n",
    "del dest01"
   ]
  },
  {
   "cell_type": "code",
   "execution_count": 8,
   "id": "d56f947c",
   "metadata": {},
   "outputs": [
    {
     "name": "stdout",
     "output_type": "stream",
     "text": [
      "Welcome\n",
      "Surya\n"
     ]
    }
   ],
   "source": [
    "# static method\n",
    "class A():\n",
    "    @staticmethod\n",
    "    def st1(n1):\n",
    "        return n1\n",
    "\n",
    "x = a()\n",
    "print(a.st1(\"Welcome\"))\n",
    "print(x.st1(\"Surya\"))"
   ]
  },
  {
   "cell_type": "code",
   "execution_count": 39,
   "id": "25866a5b",
   "metadata": {},
   "outputs": [
    {
     "ename": "NameError",
     "evalue": "name 'var1' is not defined",
     "output_type": "error",
     "traceback": [
      "\u001b[0;31m---------------------------------------------------------------------------\u001b[0m",
      "\u001b[0;31mNameError\u001b[0m                                 Traceback (most recent call last)",
      "Cell \u001b[0;32mIn [39], line 16\u001b[0m\n\u001b[1;32m     14\u001b[0m obj1 \u001b[38;5;241m=\u001b[39m CommonPerson(\u001b[38;5;124m\"\u001b[39m\u001b[38;5;124mSajan\u001b[39m\u001b[38;5;124m\"\u001b[39m, \u001b[38;5;241m7871232133\u001b[39m)\n\u001b[1;32m     15\u001b[0m \u001b[38;5;66;03m# obj1.display()\u001b[39;00m\n\u001b[0;32m---> 16\u001b[0m CommonPerson\u001b[38;5;241m.\u001b[39mdisplay_var()\n\u001b[1;32m     18\u001b[0m \u001b[38;5;66;03m# class inheritance\u001b[39;00m\n\u001b[1;32m     19\u001b[0m \u001b[38;5;28;01mclass\u001b[39;00m \u001b[38;5;21;01mStudent\u001b[39;00m(CommonPerson): \u001b[38;5;66;03m# CommonPerson is a parent class of Student, child class\u001b[39;00m\n",
      "Cell \u001b[0;32mIn [39], line 13\u001b[0m, in \u001b[0;36mCommonPerson.display_var\u001b[0;34m(cls)\u001b[0m\n\u001b[1;32m     11\u001b[0m \u001b[38;5;129m@classmethod\u001b[39m\n\u001b[1;32m     12\u001b[0m \u001b[38;5;28;01mdef\u001b[39;00m \u001b[38;5;21mdisplay_var\u001b[39m(\u001b[38;5;28mcls\u001b[39m):\n\u001b[0;32m---> 13\u001b[0m     \u001b[38;5;28mprint\u001b[39m(\u001b[38;5;124m\"\u001b[39m\u001b[38;5;124mAccessing global variable: \u001b[39m\u001b[38;5;124m\"\u001b[39m, \u001b[43mvar1\u001b[49m)\n",
      "\u001b[0;31mNameError\u001b[0m: name 'var1' is not defined"
     ]
    }
   ],
   "source": [
    "class CommonPerson():\n",
    "    ''' Common Properties of Class '''\n",
    "    \n",
    "    var1 = 10\n",
    "    \n",
    "    def __init__(self, cname, cphone):\n",
    "        self.cname = cname\n",
    "        self.cphone = cphone\n",
    "        \n",
    "    def common_display(self):\n",
    "        print(\"Info: \", self.cname, self.cphone)\n",
    "\n",
    "    @classmethod\n",
    "    def display_var(cls):\n",
    "        print(\"Accessing global variable: \", var1)\n",
    "obj1 = CommonPerson(\"Sajan\", 7871232133)\n",
    "# obj1.display()\n",
    "CommonPerson.display_var()\n",
    "\n",
    "# class inheritance\n",
    "class Student(CommonPerson): # CommonPerson is a parent class of Student, child class\n",
    "    def __init__(self, uni):\n",
    "        self.uni = uni\n",
    "        \n",
    "    def stu_display(self):\n",
    "        print(self.uni)\n",
    "\n",
    "stu1 = Student(\"SFSU\")\n",
    "stu1.stu_display()\n",
    "super(\"Sajan\", 234234).common_display()"
   ]
  },
  {
   "cell_type": "code",
   "execution_count": null,
   "id": "8a1000b7",
   "metadata": {},
   "outputs": [],
   "source": []
  }
 ],
 "metadata": {
  "kernelspec": {
   "display_name": "Python 3 (ipykernel)",
   "language": "python",
   "name": "python3"
  },
  "language_info": {
   "codemirror_mode": {
    "name": "ipython",
    "version": 3
   },
   "file_extension": ".py",
   "mimetype": "text/x-python",
   "name": "python",
   "nbconvert_exporter": "python",
   "pygments_lexer": "ipython3",
   "version": "3.10.8"
  }
 },
 "nbformat": 4,
 "nbformat_minor": 5
}
